{
 "cells": [
  {
   "cell_type": "code",
   "execution_count": 2,
   "id": "67edc999",
   "metadata": {},
   "outputs": [
    {
     "name": "stdout",
     "output_type": "stream",
     "text": [
      "Installing required packages...\n",
      "❌ Failed to install google-adk: Command '['/Users/kade/Codes/weather-multi-agent-google-adk/.venv/bin/python3', '-m', 'pip', 'install', 'google-adk']' returned non-zero exit status 1.\n",
      "❌ Failed to install requests: Command '['/Users/kade/Codes/weather-multi-agent-google-adk/.venv/bin/python3', '-m', 'pip', 'install', 'requests']' returned non-zero exit status 1.\n",
      "❌ Failed to install python-dotenv: Command '['/Users/kade/Codes/weather-multi-agent-google-adk/.venv/bin/python3', '-m', 'pip', 'install', 'python-dotenv']' returned non-zero exit status 1.\n",
      "❌ Failed to install pydantic: Command '['/Users/kade/Codes/weather-multi-agent-google-adk/.venv/bin/python3', '-m', 'pip', 'install', 'pydantic']' returned non-zero exit status 1.\n",
      "❌ Failed to install matplotlib: Command '['/Users/kade/Codes/weather-multi-agent-google-adk/.venv/bin/python3', '-m', 'pip', 'install', 'matplotlib']' returned non-zero exit status 1.\n",
      "❌ Failed to install seaborn: Command '['/Users/kade/Codes/weather-multi-agent-google-adk/.venv/bin/python3', '-m', 'pip', 'install', 'seaborn']' returned non-zero exit status 1.\n",
      "❌ Failed to install pandas: Command '['/Users/kade/Codes/weather-multi-agent-google-adk/.venv/bin/python3', '-m', 'pip', 'install', 'pandas']' returned non-zero exit status 1.\n",
      "❌ Failed to install plotly: Command '['/Users/kade/Codes/weather-multi-agent-google-adk/.venv/bin/python3', '-m', 'pip', 'install', 'plotly']' returned non-zero exit status 1.\n",
      "❌ Failed to install jupyter: Command '['/Users/kade/Codes/weather-multi-agent-google-adk/.venv/bin/python3', '-m', 'pip', 'install', 'jupyter']' returned non-zero exit status 1.\n",
      "\n",
      "🎉 Installation complete!\n"
     ]
    },
    {
     "name": "stderr",
     "output_type": "stream",
     "text": [
      "/Users/kade/Codes/weather-multi-agent-google-adk/.venv/bin/python3: No module named pip\n",
      "/Users/kade/Codes/weather-multi-agent-google-adk/.venv/bin/python3: No module named pip\n",
      "/Users/kade/Codes/weather-multi-agent-google-adk/.venv/bin/python3: No module named pip\n",
      "/Users/kade/Codes/weather-multi-agent-google-adk/.venv/bin/python3: No module named pip\n",
      "/Users/kade/Codes/weather-multi-agent-google-adk/.venv/bin/python3: No module named pip\n",
      "/Users/kade/Codes/weather-multi-agent-google-adk/.venv/bin/python3: No module named pip\n",
      "/Users/kade/Codes/weather-multi-agent-google-adk/.venv/bin/python3: No module named pip\n",
      "/Users/kade/Codes/weather-multi-agent-google-adk/.venv/bin/python3: No module named pip\n",
      "/Users/kade/Codes/weather-multi-agent-google-adk/.venv/bin/python3: No module named pip\n"
     ]
    }
   ],
   "source": [
    "# Install core dependencies\n",
    "import subprocess\n",
    "import sys\n",
    "\n",
    "def install_package(package):\n",
    "    \"\"\"Install a package using pip\"\"\"\n",
    "    subprocess.check_call([sys.executable, \"-m\", \"pip\", \"install\", package])\n",
    "\n",
    "# Core dependencies for the multi-agent tool\n",
    "packages = [\n",
    "    \"google-adk\",\n",
    "    \"requests\", \n",
    "    \"python-dotenv\",\n",
    "    \"pydantic\",\n",
    "    \"matplotlib\",\n",
    "    \"seaborn\",\n",
    "    \"pandas\",\n",
    "    \"plotly\",\n",
    "    \"jupyter\"\n",
    "]\n",
    "\n",
    "print(\"Installing required packages...\")\n",
    "for package in packages:\n",
    "    try:\n",
    "        install_package(package)\n",
    "        print(f\"✅ Successfully installed {package}\")\n",
    "    except Exception as e:\n",
    "        print(f\"❌ Failed to install {package}: {e}\")\n",
    "\n",
    "print(\"\\n🎉 Installation complete!\")"
   ]
  },
  {
   "cell_type": "markdown",
   "id": "3f1ab737",
   "metadata": {},
   "source": [
    "## 2. Import Libraries and Setup Environment\n",
    "\n",
    "Now let's import all necessary libraries and set up our environment for the multi-agent demonstration."
   ]
  },
  {
   "cell_type": "code",
   "execution_count": null,
   "id": "85295eab",
   "metadata": {},
   "outputs": [],
   "source": [
    "# Import required libraries\n",
    "import os\n",
    "import sys\n",
    "import json\n",
    "import time\n",
    "from datetime import datetime\n",
    "import pandas as pd\n",
    "import matplotlib.pyplot as plt\n",
    "import seaborn as sns\n",
    "import plotly.express as px\n",
    "import plotly.graph_objects as go\n",
    "from plotly.subplots import make_subplots\n",
    "\n",
    "# Setup matplotlib and seaborn styling\n",
    "plt.style.use('seaborn-v0_8')\n",
    "sns.set_palette(\"husl\")\n",
    "\n",
    "# Add the project root to Python path (adjust path as needed)\n",
    "project_root = os.path.dirname(os.getcwd())\n",
    "if project_root not in sys.path:\n",
    "    sys.path.insert(0, project_root)\n",
    "\n",
    "print(\"📚 Libraries imported successfully!\")\n",
    "print(f\"🔧 Project root: {project_root}\")\n",
    "print(f\"📅 Notebook started at: {datetime.now().strftime('%Y-%m-%d %H:%M:%S')}\")"
   ]
  },
  {
   "cell_type": "markdown",
   "id": "6c024722",
   "metadata": {},
   "source": [
    "## 3. Configure Multi-Agent Tool\n",
    "\n",
    "Let's configure our environment variables and initialize the multi-agent weather tool. \n",
    "\n",
    "**Note**: You'll need to set up your API keys in a `.env` file or as environment variables:\n",
    "- `GOOGLE_API_KEY` - For Google ADK services\n",
    "- `WEATHER_API_KEY` - For weather data (if using external weather API)"
   ]
  },
  {
   "cell_type": "code",
   "execution_count": null,
   "id": "56f9c7c2",
   "metadata": {},
   "outputs": [],
   "source": [
    "# Setup environment variables (you can also use a .env file)\n",
    "import os\n",
    "from dotenv import load_dotenv\n",
    "\n",
    "# Load environment variables from .env file if it exists\n",
    "load_dotenv()\n",
    "\n",
    "# Check if API keys are configured\n",
    "google_api_key = os.getenv('GOOGLE_API_KEY')\n",
    "weather_api_key = os.getenv('WEATHER_API_KEY')\n",
    "\n",
    "if not google_api_key:\n",
    "    print(\"⚠️  Warning: GOOGLE_API_KEY not found. Some features may be limited.\")\n",
    "    print(\"   Please set your Google API key in environment variables or .env file\")\n",
    "\n",
    "if not weather_api_key:\n",
    "    print(\"⚠️  Warning: WEATHER_API_KEY not found. Using fallback weather service.\")\n",
    "\n",
    "# Import the multi-agent tool\n",
    "try:\n",
    "    from multi_tool_agent.agent import enhanced_agent\n",
    "    from multi_tool_agent.config import config\n",
    "    print(\"✅ Multi-agent tool imported successfully!\")\n",
    "    print(f\"🤖 Agent Name: {config.AGENT_NAME}\")\n",
    "    print(f\"🧠 Model: {config.AGENT_MODEL}\")\n",
    "except ImportError as e:\n",
    "    print(f\"❌ Failed to import multi-agent tool: {e}\")\n",
    "    print(\"   Make sure you're running this notebook from the project directory\")"
   ]
  },
  {
   "cell_type": "markdown",
   "id": "5bd87c51",
   "metadata": {},
   "source": [
    "## 4. Basic Agent Interactions\n",
    "\n",
    "Let's start with some basic queries to demonstrate the multi-agent tool's capabilities."
   ]
  },
  {
   "cell_type": "code",
   "execution_count": 1,
   "id": "5da88c44",
   "metadata": {},
   "outputs": [
    {
     "name": "stdout",
     "output_type": "stream",
     "text": [
      "🌤️ WEATHER QUERY EXAMPLE\n",
      "==================================================\n",
      "Query: What's the weather like in New York?\n",
      "\n",
      "Error: name 'enhanced_agent' is not defined\n",
      "Note: Make sure your API keys are properly configured\n"
     ]
    }
   ],
   "source": [
    "# Simple weather query\n",
    "print(\"🌤️ WEATHER QUERY EXAMPLE\")\n",
    "print(\"=\" * 50)\n",
    "\n",
    "query = \"What's the weather like in New York?\"\n",
    "print(f\"Query: {query}\")\n",
    "print()\n",
    "\n",
    "try:\n",
    "    response = enhanced_agent.chat(query)\n",
    "    print(\"Agent Response:\")\n",
    "    print(response)\n",
    "except Exception as e:\n",
    "    print(f\"Error: {e}\")\n",
    "    print(\"Note: Make sure your API keys are properly configured\")"
   ]
  }
 ],
 "metadata": {
  "kernelspec": {
   "display_name": "Python 3 (ipykernel)",
   "language": "python",
   "name": "python3"
  },
  "language_info": {
   "codemirror_mode": {
    "name": "ipython",
    "version": 3
   },
   "file_extension": ".py",
   "mimetype": "text/x-python",
   "name": "python",
   "nbconvert_exporter": "python",
   "pygments_lexer": "ipython3",
   "version": "3.13.3"
  }
 },
 "nbformat": 4,
 "nbformat_minor": 5
}
