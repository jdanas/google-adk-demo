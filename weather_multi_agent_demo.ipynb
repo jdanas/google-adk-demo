{
 "cells": [
  {
   "cell_type": "code",
   "execution_count": 1,
   "id": "67edc999",
   "metadata": {},
   "outputs": [
    {
     "name": "stdout",
     "output_type": "stream",
     "text": [
      "🚀 PACKAGE INSTALLATION SETUP\n",
      "==================================================\n",
      "✅ uv is already installed and ready to use!\n",
      "   Using 'uv pip install' for faster package installation\n",
      "\n",
      "🔧 Installation method: uv pip install\n",
      "\n",
      "📚 Installing required packages...\n",
      "[1/9] Installing google-adk... ✅\n",
      "[2/9] Installing requests... ✅\n",
      "[3/9] Installing python-dotenv... ✅\n",
      "[4/9] Installing pydantic... ✅\n",
      "[5/9] Installing matplotlib... "
     ]
    },
    {
     "name": "stderr",
     "output_type": "stream",
     "text": [
      "\u001b[2mAudited \u001b[1m1 package\u001b[0m \u001b[2min 45ms\u001b[0m\u001b[0m\n",
      "\u001b[2mAudited \u001b[1m1 package\u001b[0m \u001b[2min 1ms\u001b[0m\u001b[0m\n",
      "\u001b[2mAudited \u001b[1m1 package\u001b[0m \u001b[2min 1ms\u001b[0m\u001b[0m\n",
      "\u001b[2mAudited \u001b[1m1 package\u001b[0m \u001b[2min 3ms\u001b[0m\u001b[0m\n",
      "\u001b[2mResolved \u001b[1m11 packages\u001b[0m \u001b[2min 439ms\u001b[0m\u001b[0m\n",
      "\u001b[2mPrepared \u001b[1m6 packages\u001b[0m \u001b[2min 210ms\u001b[0m\u001b[0m\n",
      "\u001b[2mInstalled \u001b[1m6 packages\u001b[0m \u001b[2min 12ms\u001b[0m\u001b[0m\n",
      " \u001b[32m+\u001b[39m \u001b[1mcontourpy\u001b[0m\u001b[2m==1.3.2\u001b[0m\n",
      " \u001b[32m+\u001b[39m \u001b[1mcycler\u001b[0m\u001b[2m==0.12.1\u001b[0m\n",
      " \u001b[32m+\u001b[39m \u001b[1mfonttools\u001b[0m\u001b[2m==4.58.1\u001b[0m\n",
      " \u001b[32m+\u001b[39m \u001b[1mkiwisolver\u001b[0m\u001b[2m==1.4.8\u001b[0m\n",
      " \u001b[32m+\u001b[39m \u001b[1mmatplotlib\u001b[0m\u001b[2m==3.10.3\u001b[0m\n",
      " \u001b[32m+\u001b[39m \u001b[1mpillow\u001b[0m\u001b[2m==11.2.1\u001b[0m\n",
      "\u001b[2mResolved \u001b[1m15 packages\u001b[0m \u001b[2min 155ms\u001b[0m\u001b[0m\n"
     ]
    },
    {
     "name": "stdout",
     "output_type": "stream",
     "text": [
      "✅\n",
      "[6/9] Installing seaborn... "
     ]
    },
    {
     "name": "stderr",
     "output_type": "stream",
     "text": [
      "\u001b[2mPrepared \u001b[1m4 packages\u001b[0m \u001b[2min 260ms\u001b[0m\u001b[0m\n",
      "\u001b[2mInstalled \u001b[1m4 packages\u001b[0m \u001b[2min 22ms\u001b[0m\u001b[0m\n",
      " \u001b[32m+\u001b[39m \u001b[1mpandas\u001b[0m\u001b[2m==2.2.3\u001b[0m\n",
      " \u001b[32m+\u001b[39m \u001b[1mpytz\u001b[0m\u001b[2m==2025.2\u001b[0m\n",
      " \u001b[32m+\u001b[39m \u001b[1mseaborn\u001b[0m\u001b[2m==0.13.2\u001b[0m\n",
      " \u001b[32m+\u001b[39m \u001b[1mtzdata\u001b[0m\u001b[2m==2025.2\u001b[0m\n",
      "\u001b[2mAudited \u001b[1m1 package\u001b[0m \u001b[2min 2ms\u001b[0m\u001b[0m\n",
      "\u001b[2mResolved \u001b[1m3 packages\u001b[0m \u001b[2min 91ms\u001b[0m\u001b[0m\n"
     ]
    },
    {
     "name": "stdout",
     "output_type": "stream",
     "text": [
      "✅\n",
      "[7/9] Installing pandas... ✅\n",
      "[8/9] Installing plotly... ✅\n",
      "[9/9] Installing jupyter... ✅\n",
      "\n",
      "🎉 Installation Summary:\n",
      "   ✅ Successfully installed: 9/9 packages\n",
      "   🔧 Method used: uv pip install\n",
      "\n",
      "🚀 All dependencies installed successfully!\n",
      "📦 Ready for multi-agent weather tool!\n"
     ]
    },
    {
     "name": "stderr",
     "output_type": "stream",
     "text": [
      "\u001b[2mPrepared \u001b[1m2 packages\u001b[0m \u001b[2min 1.07s\u001b[0m\u001b[0m\n",
      "\u001b[2mInstalled \u001b[1m2 packages\u001b[0m \u001b[2min 152ms\u001b[0m\u001b[0m\n",
      " \u001b[32m+\u001b[39m \u001b[1mnarwhals\u001b[0m\u001b[2m==1.41.0\u001b[0m\n",
      " \u001b[32m+\u001b[39m \u001b[1mplotly\u001b[0m\u001b[2m==6.1.2\u001b[0m\n",
      "\u001b[2mAudited \u001b[1m1 package\u001b[0m \u001b[2min 16ms\u001b[0m\u001b[0m\n"
     ]
    }
   ],
   "source": [
    "# Install core dependencies using uv pip (preferred) or fallback to regular pip\n",
    "import subprocess\n",
    "import sys\n",
    "import shutil\n",
    "import os\n",
    "\n",
    "def check_uv_installed():\n",
    "    \"\"\"Check if uv is installed and available in PATH\"\"\"\n",
    "    return shutil.which(\"uv\") is not None\n",
    "\n",
    "def install_uv():\n",
    "    \"\"\"Install uv if not already available\"\"\"\n",
    "    try:\n",
    "        print(\"📦 Installing uv for faster package management...\")\n",
    "        subprocess.check_call([sys.executable, \"-m\", \"pip\", \"install\", \"uv\"])\n",
    "        return True\n",
    "    except Exception as e:\n",
    "        print(f\"❌ Failed to install uv: {e}\")\n",
    "        return False\n",
    "\n",
    "def install_package(package, use_uv=True):\n",
    "    \"\"\"Install a package using uv pip install or regular pip as fallback\"\"\"\n",
    "    try:\n",
    "        if use_uv and check_uv_installed():\n",
    "            subprocess.check_call([\"uv\", \"pip\", \"install\", package])\n",
    "        else:\n",
    "            subprocess.check_call([sys.executable, \"-m\", \"pip\", \"install\", package])\n",
    "        return True\n",
    "    except Exception as e:\n",
    "        print(f\"❌ Failed to install {package}: {e}\")\n",
    "        return False\n",
    "\n",
    "# Core dependencies for the multi-agent tool\n",
    "packages = [\n",
    "    \"google-adk\",\n",
    "    \"requests\", \n",
    "    \"python-dotenv\",\n",
    "    \"pydantic\",\n",
    "    \"matplotlib\",\n",
    "    \"seaborn\",\n",
    "    \"pandas\",\n",
    "    \"plotly\",\n",
    "    \"jupyter\"\n",
    "]\n",
    "\n",
    "print(\"🚀 PACKAGE INSTALLATION SETUP\")\n",
    "print(\"=\" * 50)\n",
    "\n",
    "# Check if uv is available\n",
    "uv_available = check_uv_installed()\n",
    "\n",
    "if uv_available:\n",
    "    print(\"✅ uv is already installed and ready to use!\")\n",
    "    print(\"   Using 'uv pip install' for faster package installation\")\n",
    "    use_uv = True\n",
    "else:\n",
    "    print(\"⚠️  uv not found in PATH\")\n",
    "    print(\"   Installing uv for faster package management...\")\n",
    "    \n",
    "    if install_uv():\n",
    "        print(\"✅ uv installed successfully!\")\n",
    "        use_uv = True\n",
    "    else:\n",
    "        print(\"⚠️  Continuing with regular pip\")\n",
    "        use_uv = False\n",
    "\n",
    "print(f\"\\n🔧 Installation method: {'uv pip install' if use_uv else 'pip install'}\")\n",
    "print(\"\\n📚 Installing required packages...\")\n",
    "\n",
    "# Install packages\n",
    "successful_installs = 0\n",
    "for i, package in enumerate(packages, 1):\n",
    "    print(f\"[{i}/{len(packages)}] Installing {package}...\", end=\" \")\n",
    "    \n",
    "    if install_package(package, use_uv):\n",
    "        print(\"✅\")\n",
    "        successful_installs += 1\n",
    "    else:\n",
    "        print(\"❌\")\n",
    "\n",
    "print(f\"\\n🎉 Installation Summary:\")\n",
    "print(f\"   ✅ Successfully installed: {successful_installs}/{len(packages)} packages\")\n",
    "print(f\"   🔧 Method used: {'uv pip install' if use_uv and check_uv_installed() else 'pip install'}\")\n",
    "\n",
    "if successful_installs == len(packages):\n",
    "    print(\"\\n🚀 All dependencies installed successfully!\")\n",
    "    print(\"📦 Ready for multi-agent weather tool!\")\n",
    "else:\n",
    "    print(f\"\\n⚠️  {len(packages) - successful_installs} packages failed to install\")\n",
    "    print(\"   You may need to install them manually\")"
   ]
  },
  {
   "cell_type": "code",
   "execution_count": null,
   "id": "f27f6c33",
   "metadata": {},
   "outputs": [],
   "source": []
  },
  {
   "cell_type": "markdown",
   "id": "3f1ab737",
   "metadata": {},
   "source": [
    "## 2. Import Libraries and Setup Environment\n",
    "\n",
    "Now let's import all necessary libraries and set up our environment for the multi-agent demonstration."
   ]
  },
  {
   "cell_type": "code",
   "execution_count": 2,
   "id": "85295eab",
   "metadata": {},
   "outputs": [
    {
     "name": "stderr",
     "output_type": "stream",
     "text": [
      "Matplotlib is building the font cache; this may take a moment.\n"
     ]
    },
    {
     "name": "stdout",
     "output_type": "stream",
     "text": [
      "📚 Libraries imported successfully!\n",
      "🔧 Project root: /Users/kade/Codes\n",
      "📅 Notebook started at: 2025-06-02 15:59:44\n"
     ]
    }
   ],
   "source": [
    "# Import required libraries\n",
    "import os\n",
    "import sys\n",
    "import json\n",
    "import time\n",
    "from datetime import datetime\n",
    "import pandas as pd\n",
    "import matplotlib.pyplot as plt\n",
    "import seaborn as sns\n",
    "import plotly.express as px\n",
    "import plotly.graph_objects as go\n",
    "from plotly.subplots import make_subplots\n",
    "\n",
    "# Setup matplotlib and seaborn styling\n",
    "plt.style.use('seaborn-v0_8')\n",
    "sns.set_palette(\"husl\")\n",
    "\n",
    "# Add the project root to Python path (adjust path as needed)\n",
    "project_root = os.path.dirname(os.getcwd())\n",
    "if project_root not in sys.path:\n",
    "    sys.path.insert(0, project_root)\n",
    "\n",
    "print(\"📚 Libraries imported successfully!\")\n",
    "print(f\"🔧 Project root: {project_root}\")\n",
    "print(f\"📅 Notebook started at: {datetime.now().strftime('%Y-%m-%d %H:%M:%S')}\")"
   ]
  },
  {
   "cell_type": "markdown",
   "id": "6c024722",
   "metadata": {},
   "source": [
    "## 3. Configure Multi-Agent Tool\n",
    "\n",
    "Let's configure our environment variables and initialize the multi-agent weather tool. \n",
    "\n",
    "**Note**: You'll need to set up your API keys in a `.env` file or as environment variables:\n",
    "- `GOOGLE_API_KEY` - For Google ADK services\n",
    "- `WEATHER_API_KEY` - For weather data (if using external weather API)"
   ]
  },
  {
   "cell_type": "code",
   "execution_count": 3,
   "id": "56f9c7c2",
   "metadata": {},
   "outputs": [
    {
     "name": "stdout",
     "output_type": "stream",
     "text": [
      "⚠️  Warning: WEATHER_API_KEY not found. Using fallback weather service.\n",
      "✅ Multi-agent tool imported successfully!\n",
      "🤖 Agent Name: enhanced_multi_tool_agent\n",
      "🧠 Model: gemini-2.0-flash\n"
     ]
    }
   ],
   "source": [
    "# Setup environment variables (you can also use a .env file)\n",
    "import os\n",
    "from dotenv import load_dotenv\n",
    "\n",
    "# Load environment variables from .env file if it exists\n",
    "load_dotenv()\n",
    "\n",
    "# Check if API keys are configured\n",
    "google_api_key = os.getenv('GOOGLE_API_KEY')\n",
    "weather_api_key = os.getenv('WEATHER_API_KEY')\n",
    "\n",
    "if not google_api_key:\n",
    "    print(\"⚠️  Warning: GOOGLE_API_KEY not found. Some features may be limited.\")\n",
    "    print(\"   Please set your Google API key in environment variables or .env file\")\n",
    "\n",
    "if not weather_api_key:\n",
    "    print(\"⚠️  Warning: WEATHER_API_KEY not found. Using fallback weather service.\")\n",
    "\n",
    "# Import the multi-agent tool\n",
    "try:\n",
    "    from multi_tool_agent.agent import enhanced_agent\n",
    "    from multi_tool_agent.config import config\n",
    "    print(\"✅ Multi-agent tool imported successfully!\")\n",
    "    print(f\"🤖 Agent Name: {config.AGENT_NAME}\")\n",
    "    print(f\"🧠 Model: {config.AGENT_MODEL}\")\n",
    "except ImportError as e:\n",
    "    print(f\"❌ Failed to import multi-agent tool: {e}\")\n",
    "    print(\"   Make sure you're running this notebook from the project directory\")"
   ]
  },
  {
   "cell_type": "markdown",
   "id": "5bd87c51",
   "metadata": {},
   "source": [
    "## 4. Basic Agent Interactions\n",
    "\n",
    "Let's start with some basic queries to demonstrate the multi-agent tool's capabilities."
   ]
  },
  {
   "cell_type": "code",
   "execution_count": 5,
   "id": "5da88c44",
   "metadata": {},
   "outputs": [
    {
     "name": "stdout",
     "output_type": "stream",
     "text": [
      "🌤️ WEATHER QUERY EXAMPLE\n",
      "==================================================\n",
      "Query: What's the weather like in Singapore?\n",
      "\n",
      "Error: 'LlmAgent' object has no attribute 'chat'\n",
      "Note: Make sure your API keys are properly configured\n"
     ]
    }
   ],
   "source": [
    "# Simple weather query\n",
    "print(\"🌤️ WEATHER QUERY EXAMPLE\")\n",
    "print(\"=\" * 50)\n",
    "\n",
    "query = \"What's the weather like in Singapore?\"\n",
    "print(f\"Query: {query}\")\n",
    "print()\n",
    "\n",
    "try:\n",
    "    response = enhanced_agent.chat(query)\n",
    "    print(\"Agent Response:\")\n",
    "    print(response)\n",
    "except Exception as e:\n",
    "    print(f\"Error: {e}\")\n",
    "    print(\"Note: Make sure your API keys are properly configured\")"
   ]
  },
  {
   "cell_type": "code",
   "execution_count": null,
   "id": "fc84e3e3-2925-4ea5-9844-7208cbf9a0cd",
   "metadata": {},
   "outputs": [],
   "source": []
  }
 ],
 "metadata": {
  "kernelspec": {
   "display_name": "Python 3 (ipykernel)",
   "language": "python",
   "name": "python3"
  },
  "language_info": {
   "codemirror_mode": {
    "name": "ipython",
    "version": 3
   },
   "file_extension": ".py",
   "mimetype": "text/x-python",
   "name": "python",
   "nbconvert_exporter": "python",
   "pygments_lexer": "ipython3",
   "version": "3.13.3"
  }
 },
 "nbformat": 4,
 "nbformat_minor": 5
}
